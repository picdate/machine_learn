{
 "cells": [
  {
   "cell_type": "code",
   "execution_count": 1,
   "metadata": {
    "execution": {
     "iopub.execute_input": "2021-12-14T08:18:23.236032Z",
     "iopub.status.busy": "2021-12-14T08:18:23.235148Z",
     "iopub.status.idle": "2021-12-14T08:18:28.960894Z",
     "shell.execute_reply": "2021-12-14T08:18:28.960208Z",
     "shell.execute_reply.started": "2021-12-14T07:27:10.422484Z"
    },
    "papermill": {
     "duration": 5.763534,
     "end_time": "2021-12-14T08:18:28.961094",
     "exception": false,
     "start_time": "2021-12-14T08:18:23.197560",
     "status": "completed"
    },
    "tags": []
   },
   "outputs": [],
   "source": [
    "import os\n",
    "import keras\n",
    "from keras.preprocessing.image import ImageDataGenerator\n",
    "import numpy as np\n",
    "import matplotlib.pyplot as plt\n",
    "from tensorflow.keras.models import Sequential,Model\n",
    "from tensorflow.keras.layers import Dense, Conv2D, MaxPooling2D, GlobalAveragePooling2D, Flatten, Dropout, BatchNormalization\n",
    "from keras.utils.np_utils import to_categorical\n",
    "from tensorflow.keras.optimizers import RMSprop\n",
    "from tensorflow.keras.callbacks import Callback, ModelCheckpoint, ReduceLROnPlateau\n",
    "from sklearn.model_selection import train_test_split\n",
    "from sklearn.metrics import confusion_matrix\n",
    "import scipy as sp\n",
    "import random\n",
    "import pandas as pd\n",
    "import seaborn as sns\n",
    "import itertools"
   ]
  },
  {
   "cell_type": "code",
   "execution_count": 2,
   "metadata": {
    "execution": {
     "iopub.execute_input": "2021-12-14T08:18:29.072099Z",
     "iopub.status.busy": "2021-12-14T08:18:29.071377Z",
     "iopub.status.idle": "2021-12-14T08:18:34.604157Z",
     "shell.execute_reply": "2021-12-14T08:18:34.603669Z",
     "shell.execute_reply.started": "2021-12-14T07:05:34.129220Z"
    },
    "papermill": {
     "duration": 5.562927,
     "end_time": "2021-12-14T08:18:34.604292",
     "exception": false,
     "start_time": "2021-12-14T08:18:29.041365",
     "status": "completed"
    },
    "tags": []
   },
   "outputs": [
    {
     "data": {
      "text/html": [
       "<div>\n",
       "<style scoped>\n",
       "    .dataframe tbody tr th:only-of-type {\n",
       "        vertical-align: middle;\n",
       "    }\n",
       "\n",
       "    .dataframe tbody tr th {\n",
       "        vertical-align: top;\n",
       "    }\n",
       "\n",
       "    .dataframe thead th {\n",
       "        text-align: right;\n",
       "    }\n",
       "</style>\n",
       "<table border=\"1\" class=\"dataframe\">\n",
       "  <thead>\n",
       "    <tr style=\"text-align: right;\">\n",
       "      <th></th>\n",
       "      <th>pixel0</th>\n",
       "      <th>pixel1</th>\n",
       "      <th>pixel2</th>\n",
       "      <th>pixel3</th>\n",
       "      <th>pixel4</th>\n",
       "      <th>pixel5</th>\n",
       "      <th>pixel6</th>\n",
       "      <th>pixel7</th>\n",
       "      <th>pixel8</th>\n",
       "      <th>pixel9</th>\n",
       "      <th>...</th>\n",
       "      <th>pixel774</th>\n",
       "      <th>pixel775</th>\n",
       "      <th>pixel776</th>\n",
       "      <th>pixel777</th>\n",
       "      <th>pixel778</th>\n",
       "      <th>pixel779</th>\n",
       "      <th>pixel780</th>\n",
       "      <th>pixel781</th>\n",
       "      <th>pixel782</th>\n",
       "      <th>pixel783</th>\n",
       "    </tr>\n",
       "  </thead>\n",
       "  <tbody>\n",
       "    <tr>\n",
       "      <th>0</th>\n",
       "      <td>0</td>\n",
       "      <td>0</td>\n",
       "      <td>0</td>\n",
       "      <td>0</td>\n",
       "      <td>0</td>\n",
       "      <td>0</td>\n",
       "      <td>0</td>\n",
       "      <td>0</td>\n",
       "      <td>0</td>\n",
       "      <td>0</td>\n",
       "      <td>...</td>\n",
       "      <td>0</td>\n",
       "      <td>0</td>\n",
       "      <td>0</td>\n",
       "      <td>0</td>\n",
       "      <td>0</td>\n",
       "      <td>0</td>\n",
       "      <td>0</td>\n",
       "      <td>0</td>\n",
       "      <td>0</td>\n",
       "      <td>0</td>\n",
       "    </tr>\n",
       "    <tr>\n",
       "      <th>1</th>\n",
       "      <td>0</td>\n",
       "      <td>0</td>\n",
       "      <td>0</td>\n",
       "      <td>0</td>\n",
       "      <td>0</td>\n",
       "      <td>0</td>\n",
       "      <td>0</td>\n",
       "      <td>0</td>\n",
       "      <td>0</td>\n",
       "      <td>0</td>\n",
       "      <td>...</td>\n",
       "      <td>0</td>\n",
       "      <td>0</td>\n",
       "      <td>0</td>\n",
       "      <td>0</td>\n",
       "      <td>0</td>\n",
       "      <td>0</td>\n",
       "      <td>0</td>\n",
       "      <td>0</td>\n",
       "      <td>0</td>\n",
       "      <td>0</td>\n",
       "    </tr>\n",
       "    <tr>\n",
       "      <th>2</th>\n",
       "      <td>0</td>\n",
       "      <td>0</td>\n",
       "      <td>0</td>\n",
       "      <td>0</td>\n",
       "      <td>0</td>\n",
       "      <td>0</td>\n",
       "      <td>0</td>\n",
       "      <td>0</td>\n",
       "      <td>0</td>\n",
       "      <td>0</td>\n",
       "      <td>...</td>\n",
       "      <td>0</td>\n",
       "      <td>0</td>\n",
       "      <td>0</td>\n",
       "      <td>0</td>\n",
       "      <td>0</td>\n",
       "      <td>0</td>\n",
       "      <td>0</td>\n",
       "      <td>0</td>\n",
       "      <td>0</td>\n",
       "      <td>0</td>\n",
       "    </tr>\n",
       "    <tr>\n",
       "      <th>3</th>\n",
       "      <td>0</td>\n",
       "      <td>0</td>\n",
       "      <td>0</td>\n",
       "      <td>0</td>\n",
       "      <td>0</td>\n",
       "      <td>0</td>\n",
       "      <td>0</td>\n",
       "      <td>0</td>\n",
       "      <td>0</td>\n",
       "      <td>0</td>\n",
       "      <td>...</td>\n",
       "      <td>0</td>\n",
       "      <td>0</td>\n",
       "      <td>0</td>\n",
       "      <td>0</td>\n",
       "      <td>0</td>\n",
       "      <td>0</td>\n",
       "      <td>0</td>\n",
       "      <td>0</td>\n",
       "      <td>0</td>\n",
       "      <td>0</td>\n",
       "    </tr>\n",
       "    <tr>\n",
       "      <th>4</th>\n",
       "      <td>0</td>\n",
       "      <td>0</td>\n",
       "      <td>0</td>\n",
       "      <td>0</td>\n",
       "      <td>0</td>\n",
       "      <td>0</td>\n",
       "      <td>0</td>\n",
       "      <td>0</td>\n",
       "      <td>0</td>\n",
       "      <td>0</td>\n",
       "      <td>...</td>\n",
       "      <td>0</td>\n",
       "      <td>0</td>\n",
       "      <td>0</td>\n",
       "      <td>0</td>\n",
       "      <td>0</td>\n",
       "      <td>0</td>\n",
       "      <td>0</td>\n",
       "      <td>0</td>\n",
       "      <td>0</td>\n",
       "      <td>0</td>\n",
       "    </tr>\n",
       "    <tr>\n",
       "      <th>...</th>\n",
       "      <td>...</td>\n",
       "      <td>...</td>\n",
       "      <td>...</td>\n",
       "      <td>...</td>\n",
       "      <td>...</td>\n",
       "      <td>...</td>\n",
       "      <td>...</td>\n",
       "      <td>...</td>\n",
       "      <td>...</td>\n",
       "      <td>...</td>\n",
       "      <td>...</td>\n",
       "      <td>...</td>\n",
       "      <td>...</td>\n",
       "      <td>...</td>\n",
       "      <td>...</td>\n",
       "      <td>...</td>\n",
       "      <td>...</td>\n",
       "      <td>...</td>\n",
       "      <td>...</td>\n",
       "      <td>...</td>\n",
       "      <td>...</td>\n",
       "    </tr>\n",
       "    <tr>\n",
       "      <th>27995</th>\n",
       "      <td>0</td>\n",
       "      <td>0</td>\n",
       "      <td>0</td>\n",
       "      <td>0</td>\n",
       "      <td>0</td>\n",
       "      <td>0</td>\n",
       "      <td>0</td>\n",
       "      <td>0</td>\n",
       "      <td>0</td>\n",
       "      <td>0</td>\n",
       "      <td>...</td>\n",
       "      <td>0</td>\n",
       "      <td>0</td>\n",
       "      <td>0</td>\n",
       "      <td>0</td>\n",
       "      <td>0</td>\n",
       "      <td>0</td>\n",
       "      <td>0</td>\n",
       "      <td>0</td>\n",
       "      <td>0</td>\n",
       "      <td>0</td>\n",
       "    </tr>\n",
       "    <tr>\n",
       "      <th>27996</th>\n",
       "      <td>0</td>\n",
       "      <td>0</td>\n",
       "      <td>0</td>\n",
       "      <td>0</td>\n",
       "      <td>0</td>\n",
       "      <td>0</td>\n",
       "      <td>0</td>\n",
       "      <td>0</td>\n",
       "      <td>0</td>\n",
       "      <td>0</td>\n",
       "      <td>...</td>\n",
       "      <td>0</td>\n",
       "      <td>0</td>\n",
       "      <td>0</td>\n",
       "      <td>0</td>\n",
       "      <td>0</td>\n",
       "      <td>0</td>\n",
       "      <td>0</td>\n",
       "      <td>0</td>\n",
       "      <td>0</td>\n",
       "      <td>0</td>\n",
       "    </tr>\n",
       "    <tr>\n",
       "      <th>27997</th>\n",
       "      <td>0</td>\n",
       "      <td>0</td>\n",
       "      <td>0</td>\n",
       "      <td>0</td>\n",
       "      <td>0</td>\n",
       "      <td>0</td>\n",
       "      <td>0</td>\n",
       "      <td>0</td>\n",
       "      <td>0</td>\n",
       "      <td>0</td>\n",
       "      <td>...</td>\n",
       "      <td>0</td>\n",
       "      <td>0</td>\n",
       "      <td>0</td>\n",
       "      <td>0</td>\n",
       "      <td>0</td>\n",
       "      <td>0</td>\n",
       "      <td>0</td>\n",
       "      <td>0</td>\n",
       "      <td>0</td>\n",
       "      <td>0</td>\n",
       "    </tr>\n",
       "    <tr>\n",
       "      <th>27998</th>\n",
       "      <td>0</td>\n",
       "      <td>0</td>\n",
       "      <td>0</td>\n",
       "      <td>0</td>\n",
       "      <td>0</td>\n",
       "      <td>0</td>\n",
       "      <td>0</td>\n",
       "      <td>0</td>\n",
       "      <td>0</td>\n",
       "      <td>0</td>\n",
       "      <td>...</td>\n",
       "      <td>0</td>\n",
       "      <td>0</td>\n",
       "      <td>0</td>\n",
       "      <td>0</td>\n",
       "      <td>0</td>\n",
       "      <td>0</td>\n",
       "      <td>0</td>\n",
       "      <td>0</td>\n",
       "      <td>0</td>\n",
       "      <td>0</td>\n",
       "    </tr>\n",
       "    <tr>\n",
       "      <th>27999</th>\n",
       "      <td>0</td>\n",
       "      <td>0</td>\n",
       "      <td>0</td>\n",
       "      <td>0</td>\n",
       "      <td>0</td>\n",
       "      <td>0</td>\n",
       "      <td>0</td>\n",
       "      <td>0</td>\n",
       "      <td>0</td>\n",
       "      <td>0</td>\n",
       "      <td>...</td>\n",
       "      <td>0</td>\n",
       "      <td>0</td>\n",
       "      <td>0</td>\n",
       "      <td>0</td>\n",
       "      <td>0</td>\n",
       "      <td>0</td>\n",
       "      <td>0</td>\n",
       "      <td>0</td>\n",
       "      <td>0</td>\n",
       "      <td>0</td>\n",
       "    </tr>\n",
       "  </tbody>\n",
       "</table>\n",
       "<p>28000 rows × 784 columns</p>\n",
       "</div>"
      ],
      "text/plain": [
       "       pixel0  pixel1  pixel2  pixel3  pixel4  pixel5  pixel6  pixel7  pixel8  \\\n",
       "0           0       0       0       0       0       0       0       0       0   \n",
       "1           0       0       0       0       0       0       0       0       0   \n",
       "2           0       0       0       0       0       0       0       0       0   \n",
       "3           0       0       0       0       0       0       0       0       0   \n",
       "4           0       0       0       0       0       0       0       0       0   \n",
       "...       ...     ...     ...     ...     ...     ...     ...     ...     ...   \n",
       "27995       0       0       0       0       0       0       0       0       0   \n",
       "27996       0       0       0       0       0       0       0       0       0   \n",
       "27997       0       0       0       0       0       0       0       0       0   \n",
       "27998       0       0       0       0       0       0       0       0       0   \n",
       "27999       0       0       0       0       0       0       0       0       0   \n",
       "\n",
       "       pixel9  ...  pixel774  pixel775  pixel776  pixel777  pixel778  \\\n",
       "0           0  ...         0         0         0         0         0   \n",
       "1           0  ...         0         0         0         0         0   \n",
       "2           0  ...         0         0         0         0         0   \n",
       "3           0  ...         0         0         0         0         0   \n",
       "4           0  ...         0         0         0         0         0   \n",
       "...       ...  ...       ...       ...       ...       ...       ...   \n",
       "27995       0  ...         0         0         0         0         0   \n",
       "27996       0  ...         0         0         0         0         0   \n",
       "27997       0  ...         0         0         0         0         0   \n",
       "27998       0  ...         0         0         0         0         0   \n",
       "27999       0  ...         0         0         0         0         0   \n",
       "\n",
       "       pixel779  pixel780  pixel781  pixel782  pixel783  \n",
       "0             0         0         0         0         0  \n",
       "1             0         0         0         0         0  \n",
       "2             0         0         0         0         0  \n",
       "3             0         0         0         0         0  \n",
       "4             0         0         0         0         0  \n",
       "...         ...       ...       ...       ...       ...  \n",
       "27995         0         0         0         0         0  \n",
       "27996         0         0         0         0         0  \n",
       "27997         0         0         0         0         0  \n",
       "27998         0         0         0         0         0  \n",
       "27999         0         0         0         0         0  \n",
       "\n",
       "[28000 rows x 784 columns]"
      ]
     },
     "execution_count": 2,
     "metadata": {},
     "output_type": "execute_result"
    }
   ],
   "source": [
    "#读取训练测试数据\n",
    "train = pd.read_csv(\"train.csv\")\n",
    "test = pd.read_csv(\"test.csv\")\n",
    "test"
   ]
  },
  {
   "cell_type": "code",
   "execution_count": 3,
   "metadata": {
    "execution": {
     "iopub.execute_input": "2021-12-14T08:18:34.661264Z",
     "iopub.status.busy": "2021-12-14T08:18:34.660422Z",
     "iopub.status.idle": "2021-12-14T08:18:34.742056Z",
     "shell.execute_reply": "2021-12-14T08:18:34.742514Z",
     "shell.execute_reply.started": "2021-12-14T07:05:39.274874Z"
    },
    "papermill": {
     "duration": 0.114478,
     "end_time": "2021-12-14T08:18:34.742690",
     "exception": false,
     "start_time": "2021-12-14T08:18:34.628212",
     "status": "completed"
    },
    "tags": []
   },
   "outputs": [],
   "source": [
    "#将训练集分成测试训练两个部分\n",
    "Y_train = train[\"label\"]\n",
    "X_train = train.drop(labels = [\"label\"],axis = 1) "
   ]
  },
  {
   "cell_type": "code",
   "execution_count": 4,
   "metadata": {},
   "outputs": [
    {
     "data": {
      "text/html": [
       "<div>\n",
       "<style scoped>\n",
       "    .dataframe tbody tr th:only-of-type {\n",
       "        vertical-align: middle;\n",
       "    }\n",
       "\n",
       "    .dataframe tbody tr th {\n",
       "        vertical-align: top;\n",
       "    }\n",
       "\n",
       "    .dataframe thead th {\n",
       "        text-align: right;\n",
       "    }\n",
       "</style>\n",
       "<table border=\"1\" class=\"dataframe\">\n",
       "  <thead>\n",
       "    <tr style=\"text-align: right;\">\n",
       "      <th></th>\n",
       "      <th>pixel0</th>\n",
       "      <th>pixel1</th>\n",
       "      <th>pixel2</th>\n",
       "      <th>pixel3</th>\n",
       "      <th>pixel4</th>\n",
       "      <th>pixel5</th>\n",
       "      <th>pixel6</th>\n",
       "      <th>pixel7</th>\n",
       "      <th>pixel8</th>\n",
       "      <th>pixel9</th>\n",
       "      <th>...</th>\n",
       "      <th>pixel774</th>\n",
       "      <th>pixel775</th>\n",
       "      <th>pixel776</th>\n",
       "      <th>pixel777</th>\n",
       "      <th>pixel778</th>\n",
       "      <th>pixel779</th>\n",
       "      <th>pixel780</th>\n",
       "      <th>pixel781</th>\n",
       "      <th>pixel782</th>\n",
       "      <th>pixel783</th>\n",
       "    </tr>\n",
       "  </thead>\n",
       "  <tbody>\n",
       "    <tr>\n",
       "      <th>0</th>\n",
       "      <td>0</td>\n",
       "      <td>0</td>\n",
       "      <td>0</td>\n",
       "      <td>0</td>\n",
       "      <td>0</td>\n",
       "      <td>0</td>\n",
       "      <td>0</td>\n",
       "      <td>0</td>\n",
       "      <td>0</td>\n",
       "      <td>0</td>\n",
       "      <td>...</td>\n",
       "      <td>0</td>\n",
       "      <td>0</td>\n",
       "      <td>0</td>\n",
       "      <td>0</td>\n",
       "      <td>0</td>\n",
       "      <td>0</td>\n",
       "      <td>0</td>\n",
       "      <td>0</td>\n",
       "      <td>0</td>\n",
       "      <td>0</td>\n",
       "    </tr>\n",
       "    <tr>\n",
       "      <th>1</th>\n",
       "      <td>0</td>\n",
       "      <td>0</td>\n",
       "      <td>0</td>\n",
       "      <td>0</td>\n",
       "      <td>0</td>\n",
       "      <td>0</td>\n",
       "      <td>0</td>\n",
       "      <td>0</td>\n",
       "      <td>0</td>\n",
       "      <td>0</td>\n",
       "      <td>...</td>\n",
       "      <td>0</td>\n",
       "      <td>0</td>\n",
       "      <td>0</td>\n",
       "      <td>0</td>\n",
       "      <td>0</td>\n",
       "      <td>0</td>\n",
       "      <td>0</td>\n",
       "      <td>0</td>\n",
       "      <td>0</td>\n",
       "      <td>0</td>\n",
       "    </tr>\n",
       "    <tr>\n",
       "      <th>2</th>\n",
       "      <td>0</td>\n",
       "      <td>0</td>\n",
       "      <td>0</td>\n",
       "      <td>0</td>\n",
       "      <td>0</td>\n",
       "      <td>0</td>\n",
       "      <td>0</td>\n",
       "      <td>0</td>\n",
       "      <td>0</td>\n",
       "      <td>0</td>\n",
       "      <td>...</td>\n",
       "      <td>0</td>\n",
       "      <td>0</td>\n",
       "      <td>0</td>\n",
       "      <td>0</td>\n",
       "      <td>0</td>\n",
       "      <td>0</td>\n",
       "      <td>0</td>\n",
       "      <td>0</td>\n",
       "      <td>0</td>\n",
       "      <td>0</td>\n",
       "    </tr>\n",
       "    <tr>\n",
       "      <th>3</th>\n",
       "      <td>0</td>\n",
       "      <td>0</td>\n",
       "      <td>0</td>\n",
       "      <td>0</td>\n",
       "      <td>0</td>\n",
       "      <td>0</td>\n",
       "      <td>0</td>\n",
       "      <td>0</td>\n",
       "      <td>0</td>\n",
       "      <td>0</td>\n",
       "      <td>...</td>\n",
       "      <td>0</td>\n",
       "      <td>0</td>\n",
       "      <td>0</td>\n",
       "      <td>0</td>\n",
       "      <td>0</td>\n",
       "      <td>0</td>\n",
       "      <td>0</td>\n",
       "      <td>0</td>\n",
       "      <td>0</td>\n",
       "      <td>0</td>\n",
       "    </tr>\n",
       "    <tr>\n",
       "      <th>4</th>\n",
       "      <td>0</td>\n",
       "      <td>0</td>\n",
       "      <td>0</td>\n",
       "      <td>0</td>\n",
       "      <td>0</td>\n",
       "      <td>0</td>\n",
       "      <td>0</td>\n",
       "      <td>0</td>\n",
       "      <td>0</td>\n",
       "      <td>0</td>\n",
       "      <td>...</td>\n",
       "      <td>0</td>\n",
       "      <td>0</td>\n",
       "      <td>0</td>\n",
       "      <td>0</td>\n",
       "      <td>0</td>\n",
       "      <td>0</td>\n",
       "      <td>0</td>\n",
       "      <td>0</td>\n",
       "      <td>0</td>\n",
       "      <td>0</td>\n",
       "    </tr>\n",
       "    <tr>\n",
       "      <th>...</th>\n",
       "      <td>...</td>\n",
       "      <td>...</td>\n",
       "      <td>...</td>\n",
       "      <td>...</td>\n",
       "      <td>...</td>\n",
       "      <td>...</td>\n",
       "      <td>...</td>\n",
       "      <td>...</td>\n",
       "      <td>...</td>\n",
       "      <td>...</td>\n",
       "      <td>...</td>\n",
       "      <td>...</td>\n",
       "      <td>...</td>\n",
       "      <td>...</td>\n",
       "      <td>...</td>\n",
       "      <td>...</td>\n",
       "      <td>...</td>\n",
       "      <td>...</td>\n",
       "      <td>...</td>\n",
       "      <td>...</td>\n",
       "      <td>...</td>\n",
       "    </tr>\n",
       "    <tr>\n",
       "      <th>41995</th>\n",
       "      <td>0</td>\n",
       "      <td>0</td>\n",
       "      <td>0</td>\n",
       "      <td>0</td>\n",
       "      <td>0</td>\n",
       "      <td>0</td>\n",
       "      <td>0</td>\n",
       "      <td>0</td>\n",
       "      <td>0</td>\n",
       "      <td>0</td>\n",
       "      <td>...</td>\n",
       "      <td>0</td>\n",
       "      <td>0</td>\n",
       "      <td>0</td>\n",
       "      <td>0</td>\n",
       "      <td>0</td>\n",
       "      <td>0</td>\n",
       "      <td>0</td>\n",
       "      <td>0</td>\n",
       "      <td>0</td>\n",
       "      <td>0</td>\n",
       "    </tr>\n",
       "    <tr>\n",
       "      <th>41996</th>\n",
       "      <td>0</td>\n",
       "      <td>0</td>\n",
       "      <td>0</td>\n",
       "      <td>0</td>\n",
       "      <td>0</td>\n",
       "      <td>0</td>\n",
       "      <td>0</td>\n",
       "      <td>0</td>\n",
       "      <td>0</td>\n",
       "      <td>0</td>\n",
       "      <td>...</td>\n",
       "      <td>0</td>\n",
       "      <td>0</td>\n",
       "      <td>0</td>\n",
       "      <td>0</td>\n",
       "      <td>0</td>\n",
       "      <td>0</td>\n",
       "      <td>0</td>\n",
       "      <td>0</td>\n",
       "      <td>0</td>\n",
       "      <td>0</td>\n",
       "    </tr>\n",
       "    <tr>\n",
       "      <th>41997</th>\n",
       "      <td>0</td>\n",
       "      <td>0</td>\n",
       "      <td>0</td>\n",
       "      <td>0</td>\n",
       "      <td>0</td>\n",
       "      <td>0</td>\n",
       "      <td>0</td>\n",
       "      <td>0</td>\n",
       "      <td>0</td>\n",
       "      <td>0</td>\n",
       "      <td>...</td>\n",
       "      <td>0</td>\n",
       "      <td>0</td>\n",
       "      <td>0</td>\n",
       "      <td>0</td>\n",
       "      <td>0</td>\n",
       "      <td>0</td>\n",
       "      <td>0</td>\n",
       "      <td>0</td>\n",
       "      <td>0</td>\n",
       "      <td>0</td>\n",
       "    </tr>\n",
       "    <tr>\n",
       "      <th>41998</th>\n",
       "      <td>0</td>\n",
       "      <td>0</td>\n",
       "      <td>0</td>\n",
       "      <td>0</td>\n",
       "      <td>0</td>\n",
       "      <td>0</td>\n",
       "      <td>0</td>\n",
       "      <td>0</td>\n",
       "      <td>0</td>\n",
       "      <td>0</td>\n",
       "      <td>...</td>\n",
       "      <td>0</td>\n",
       "      <td>0</td>\n",
       "      <td>0</td>\n",
       "      <td>0</td>\n",
       "      <td>0</td>\n",
       "      <td>0</td>\n",
       "      <td>0</td>\n",
       "      <td>0</td>\n",
       "      <td>0</td>\n",
       "      <td>0</td>\n",
       "    </tr>\n",
       "    <tr>\n",
       "      <th>41999</th>\n",
       "      <td>0</td>\n",
       "      <td>0</td>\n",
       "      <td>0</td>\n",
       "      <td>0</td>\n",
       "      <td>0</td>\n",
       "      <td>0</td>\n",
       "      <td>0</td>\n",
       "      <td>0</td>\n",
       "      <td>0</td>\n",
       "      <td>0</td>\n",
       "      <td>...</td>\n",
       "      <td>0</td>\n",
       "      <td>0</td>\n",
       "      <td>0</td>\n",
       "      <td>0</td>\n",
       "      <td>0</td>\n",
       "      <td>0</td>\n",
       "      <td>0</td>\n",
       "      <td>0</td>\n",
       "      <td>0</td>\n",
       "      <td>0</td>\n",
       "    </tr>\n",
       "  </tbody>\n",
       "</table>\n",
       "<p>42000 rows × 784 columns</p>\n",
       "</div>"
      ],
      "text/plain": [
       "       pixel0  pixel1  pixel2  pixel3  pixel4  pixel5  pixel6  pixel7  pixel8  \\\n",
       "0           0       0       0       0       0       0       0       0       0   \n",
       "1           0       0       0       0       0       0       0       0       0   \n",
       "2           0       0       0       0       0       0       0       0       0   \n",
       "3           0       0       0       0       0       0       0       0       0   \n",
       "4           0       0       0       0       0       0       0       0       0   \n",
       "...       ...     ...     ...     ...     ...     ...     ...     ...     ...   \n",
       "41995       0       0       0       0       0       0       0       0       0   \n",
       "41996       0       0       0       0       0       0       0       0       0   \n",
       "41997       0       0       0       0       0       0       0       0       0   \n",
       "41998       0       0       0       0       0       0       0       0       0   \n",
       "41999       0       0       0       0       0       0       0       0       0   \n",
       "\n",
       "       pixel9  ...  pixel774  pixel775  pixel776  pixel777  pixel778  \\\n",
       "0           0  ...         0         0         0         0         0   \n",
       "1           0  ...         0         0         0         0         0   \n",
       "2           0  ...         0         0         0         0         0   \n",
       "3           0  ...         0         0         0         0         0   \n",
       "4           0  ...         0         0         0         0         0   \n",
       "...       ...  ...       ...       ...       ...       ...       ...   \n",
       "41995       0  ...         0         0         0         0         0   \n",
       "41996       0  ...         0         0         0         0         0   \n",
       "41997       0  ...         0         0         0         0         0   \n",
       "41998       0  ...         0         0         0         0         0   \n",
       "41999       0  ...         0         0         0         0         0   \n",
       "\n",
       "       pixel779  pixel780  pixel781  pixel782  pixel783  \n",
       "0             0         0         0         0         0  \n",
       "1             0         0         0         0         0  \n",
       "2             0         0         0         0         0  \n",
       "3             0         0         0         0         0  \n",
       "4             0         0         0         0         0  \n",
       "...         ...       ...       ...       ...       ...  \n",
       "41995         0         0         0         0         0  \n",
       "41996         0         0         0         0         0  \n",
       "41997         0         0         0         0         0  \n",
       "41998         0         0         0         0         0  \n",
       "41999         0         0         0         0         0  \n",
       "\n",
       "[42000 rows x 784 columns]"
      ]
     },
     "execution_count": 4,
     "metadata": {},
     "output_type": "execute_result"
    }
   ],
   "source": [
    "X_train"
   ]
  },
  {
   "cell_type": "code",
   "execution_count": 5,
   "metadata": {
    "execution": {
     "iopub.execute_input": "2021-12-14T08:18:34.793845Z",
     "iopub.status.busy": "2021-12-14T08:18:34.792991Z",
     "iopub.status.idle": "2021-12-14T08:18:35.056368Z",
     "shell.execute_reply": "2021-12-14T08:18:35.055293Z",
     "shell.execute_reply.started": "2021-12-14T07:05:39.370808Z"
    },
    "papermill": {
     "duration": 0.290245,
     "end_time": "2021-12-14T08:18:35.056521",
     "exception": false,
     "start_time": "2021-12-14T08:18:34.766276",
     "status": "completed"
    },
    "tags": []
   },
   "outputs": [
    {
     "data": {
      "text/plain": [
       "1    4684\n",
       "7    4401\n",
       "3    4351\n",
       "9    4188\n",
       "2    4177\n",
       "6    4137\n",
       "0    4132\n",
       "4    4072\n",
       "8    4063\n",
       "5    3795\n",
       "Name: label, dtype: int64"
      ]
     },
     "execution_count": 5,
     "metadata": {},
     "output_type": "execute_result"
    },
    {
     "data": {
      "image/png": "[encoded data removed]",
      "text/plain": [
       "<Figure size 432x288 with 1 Axes>"
      ]
     },
     "metadata": {
      "needs_background": "light"
     },
     "output_type": "display_data"
    }
   ],
   "source": [
    "#显示各个数值的分布\n",
    "sns.countplot(Y_train)\n",
    "Y_train.value_counts()"
   ]
  },
  {
   "cell_type": "code",
   "execution_count": 6,
   "metadata": {
    "execution": {
     "iopub.execute_input": "2021-12-14T08:18:35.115600Z",
     "iopub.status.busy": "2021-12-14T08:18:35.114284Z",
     "iopub.status.idle": "2021-12-14T08:18:35.130347Z",
     "shell.execute_reply": "2021-12-14T08:18:35.129921Z",
     "shell.execute_reply.started": "2021-12-14T07:05:39.648439Z"
    },
    "papermill": {
     "duration": 0.047423,
     "end_time": "2021-12-14T08:18:35.130496",
     "exception": false,
     "start_time": "2021-12-14T08:18:35.083073",
     "status": "completed"
    },
    "tags": []
   },
   "outputs": [
    {
     "data": {
      "text/plain": [
       "count       784\n",
       "unique        1\n",
       "top       False\n",
       "freq        784\n",
       "dtype: object"
      ]
     },
     "execution_count": 6,
     "metadata": {},
     "output_type": "execute_result"
    }
   ],
   "source": [
    "#判断是否有空值\n",
    "X_train.isnull().any().describe()"
   ]
  },
  {
   "cell_type": "code",
   "execution_count": 7,
   "metadata": {
    "execution": {
     "iopub.execute_input": "2021-12-14T08:18:35.187562Z",
     "iopub.status.busy": "2021-12-14T08:18:35.186648Z",
     "iopub.status.idle": "2021-12-14T08:18:35.198944Z",
     "shell.execute_reply": "2021-12-14T08:18:35.198492Z",
     "shell.execute_reply.started": "2021-12-14T07:05:39.873703Z"
    },
    "papermill": {
     "duration": 0.042849,
     "end_time": "2021-12-14T08:18:35.199052",
     "exception": false,
     "start_time": "2021-12-14T08:18:35.156203",
     "status": "completed"
    },
    "tags": []
   },
   "outputs": [
    {
     "data": {
      "text/plain": [
       "count       784\n",
       "unique        1\n",
       "top       False\n",
       "freq        784\n",
       "dtype: object"
      ]
     },
     "execution_count": 7,
     "metadata": {},
     "output_type": "execute_result"
    }
   ],
   "source": [
    "test.isnull().any().describe()"
   ]
  },
  {
   "cell_type": "code",
   "execution_count": 8,
   "metadata": {
    "execution": {
     "iopub.execute_input": "2021-12-14T08:18:35.365291Z",
     "iopub.status.busy": "2021-12-14T08:18:35.364473Z",
     "iopub.status.idle": "2021-12-14T08:18:35.370376Z",
     "shell.execute_reply": "2021-12-14T08:18:35.369960Z",
     "shell.execute_reply.started": "2021-12-14T07:05:43.454761Z"
    },
    "papermill": {
     "duration": 0.033607,
     "end_time": "2021-12-14T08:18:35.370506",
     "exception": false,
     "start_time": "2021-12-14T08:18:35.336899",
     "status": "completed"
    },
    "tags": []
   },
   "outputs": [],
   "source": [
    "#数据预处理函数\n",
    "def data_preparation(train,test):\n",
    "    Y_train = train[\"label\"]\n",
    "    X_train = train.drop(labels = [\"label\"],axis = 1)\n",
    "  \n",
    "    X_train = X_train / 255.0\n",
    "    X_test = test / 255.0\n",
    "   \n",
    "    X_train = X_train.values.reshape(-1,28,28,1)\n",
    "    X_test = X_test.values.reshape(-1,28,28,1)\n",
    "\n",
    "    Y_train = to_categorical(Y_train, num_classes = 10)\n",
    "    return X_train, Y_train, X_test\n"
   ]
  },
  {
   "cell_type": "code",
   "execution_count": 9,
   "metadata": {
    "execution": {
     "iopub.execute_input": "2021-12-14T08:18:35.424074Z",
     "iopub.status.busy": "2021-12-14T08:18:35.423299Z",
     "iopub.status.idle": "2021-12-14T08:18:35.664349Z",
     "shell.execute_reply": "2021-12-14T08:18:35.663829Z",
     "shell.execute_reply.started": "2021-12-14T07:05:45.102445Z"
    },
    "papermill": {
     "duration": 0.269141,
     "end_time": "2021-12-14T08:18:35.664511",
     "exception": false,
     "start_time": "2021-12-14T08:18:35.395370",
     "status": "completed"
    },
    "tags": []
   },
   "outputs": [],
   "source": [
    "X_train, Y_train, X_test = data_preparation(train, test)"
   ]
  },
  {
   "cell_type": "code",
   "execution_count": 10,
   "metadata": {
    "execution": {
     "iopub.execute_input": "2021-12-14T08:18:35.719655Z",
     "iopub.status.busy": "2021-12-14T08:18:35.718917Z",
     "iopub.status.idle": "2021-12-14T08:18:35.721510Z",
     "shell.execute_reply": "2021-12-14T08:18:35.721075Z",
     "shell.execute_reply.started": "2021-12-14T07:05:46.028523Z"
    },
    "papermill": {
     "duration": 0.031718,
     "end_time": "2021-12-14T08:18:35.721625",
     "exception": false,
     "start_time": "2021-12-14T08:18:35.689907",
     "status": "completed"
    },
    "tags": []
   },
   "outputs": [],
   "source": [
    "random_seed = 27"
   ]
  },
  {
   "cell_type": "code",
   "execution_count": 11,
   "metadata": {
    "execution": {
     "iopub.execute_input": "2021-12-14T08:18:35.776200Z",
     "iopub.status.busy": "2021-12-14T08:18:35.774651Z",
     "iopub.status.idle": "2021-12-14T08:18:36.156028Z",
     "shell.execute_reply": "2021-12-14T08:18:36.155515Z",
     "shell.execute_reply.started": "2021-12-14T07:05:46.790367Z"
    },
    "papermill": {
     "duration": 0.409937,
     "end_time": "2021-12-14T08:18:36.156168",
     "exception": false,
     "start_time": "2021-12-14T08:18:35.746231",
     "status": "completed"
    },
    "tags": []
   },
   "outputs": [],
   "source": [
    "#随机划分训练集测试集\n",
    "X_train, X_val, Y_train, Y_val = train_test_split(X_train, Y_train, test_size = 0.1, random_state=random_seed)"
   ]
  },
  {
   "cell_type": "code",
   "execution_count": 12,
   "metadata": {},
   "outputs": [
    {
     "data": {
      "text/plain": [
       "array([[0., 0., 1., ..., 0., 0., 0.],\n",
       "       [1., 0., 0., ..., 0., 0., 0.],\n",
       "       [1., 0., 0., ..., 0., 0., 0.],\n",
       "       ...,\n",
       "       [0., 0., 0., ..., 0., 0., 0.],\n",
       "       [0., 0., 0., ..., 0., 0., 0.],\n",
       "       [0., 1., 0., ..., 0., 0., 0.]], dtype=float32)"
      ]
     },
     "execution_count": 12,
     "metadata": {},
     "output_type": "execute_result"
    }
   ],
   "source": [
    "Y_val"
   ]
  },
  {
   "cell_type": "code",
   "execution_count": 13,
   "metadata": {
    "execution": {
     "iopub.execute_input": "2021-12-14T08:18:36.241821Z",
     "iopub.status.busy": "2021-12-14T08:18:36.240586Z",
     "iopub.status.idle": "2021-12-14T08:18:36.430997Z",
     "shell.execute_reply": "2021-12-14T08:18:36.431383Z",
     "shell.execute_reply.started": "2021-12-14T07:05:47.548521Z"
    },
    "papermill": {
     "duration": 0.243984,
     "end_time": "2021-12-14T08:18:36.431576",
     "exception": false,
     "start_time": "2021-12-14T08:18:36.187592",
     "status": "completed"
    },
    "tags": []
   },
   "outputs": [
    {
     "data": {
      "text/plain": [
       "<matplotlib.image.AxesImage at 0x23949ad4358>"
      ]
     },
     "execution_count": 13,
     "metadata": {},
     "output_type": "execute_result"
    },
    {
     "data": {
      "image/png": "[encoded data removed]",
      "text/plain": [
       "<Figure size 432x288 with 1 Axes>"
      ]
     },
     "metadata": {
      "needs_background": "light"
     },
     "output_type": "display_data"
    }
   ],
   "source": [
    "#显示预处理后的图像数据\n",
    "plt.imshow(X_train[13][:,:,0])"
   ]
  },
  {
   "cell_type": "code",
   "execution_count": 14,
   "metadata": {
    "execution": {
     "iopub.execute_input": "2021-12-14T08:18:36.544029Z",
     "iopub.status.busy": "2021-12-14T08:18:36.543187Z",
     "iopub.status.idle": "2021-12-14T08:18:39.106998Z",
     "shell.execute_reply": "2021-12-14T08:18:39.107463Z",
     "shell.execute_reply.started": "2021-12-14T07:28:54.093951Z"
    },
    "papermill": {
     "duration": 2.598597,
     "end_time": "2021-12-14T08:18:39.107622",
     "exception": false,
     "start_time": "2021-12-14T08:18:36.509025",
     "status": "completed"
    },
    "tags": []
   },
   "outputs": [
    {
     "name": "stdout",
     "output_type": "stream",
     "text": [
      "Model: \"sequential\"\n",
      "_________________________________________________________________\n",
      " Layer (type)                Output Shape              Param #   \n",
      "=================================================================\n",
      " conv2d (Conv2D)             (None, 28, 28, 32)        832       \n",
      "                                                                 \n",
      " batch_normalization (BatchN  (None, 28, 28, 32)       128       \n",
      " ormalization)                                                   \n",
      "                                                                 \n",
      " conv2d_1 (Conv2D)           (None, 28, 28, 32)        25632     \n",
      "                                                                 \n",
      " batch_normalization_1 (Batc  (None, 28, 28, 32)       128       \n",
      " hNormalization)                                                 \n",
      "                                                                 \n",
      " max_pooling2d (MaxPooling2D  (None, 14, 14, 32)       0         \n",
      " )                                                               \n",
      "                                                                 \n",
      " dropout (Dropout)           (None, 14, 14, 32)        0         \n",
      "                                                                 \n",
      " conv2d_2 (Conv2D)           (None, 14, 14, 64)        18496     \n",
      "                                                                 \n",
      " batch_normalization_2 (Batc  (None, 14, 14, 64)       256       \n",
      " hNormalization)                                                 \n",
      "                                                                 \n",
      " conv2d_3 (Conv2D)           (None, 14, 14, 64)        36928     \n",
      "                                                                 \n",
      " batch_normalization_3 (Batc  (None, 14, 14, 64)       256       \n",
      " hNormalization)                                                 \n",
      "                                                                 \n",
      " max_pooling2d_1 (MaxPooling  (None, 7, 7, 64)         0         \n",
      " 2D)                                                             \n",
      "                                                                 \n",
      " dropout_1 (Dropout)         (None, 7, 7, 64)          0         \n",
      "                                                                 \n",
      " flatten (Flatten)           (None, 3136)              0         \n",
      "                                                                 \n",
      " dense (Dense)               (None, 256)               803072    \n",
      "                                                                 \n",
      " dropout_2 (Dropout)         (None, 256)               0         \n",
      "                                                                 \n",
      " batch_normalization_4 (Batc  (None, 256)              1024      \n",
      " hNormalization)                                                 \n",
      "                                                                 \n",
      " dense_1 (Dense)             (None, 10)                2570      \n",
      "                                                                 \n",
      "=================================================================\n",
      "Total params: 889,322\n",
      "Trainable params: 888,426\n",
      "Non-trainable params: 896\n",
      "_________________________________________________________________\n"
     ]
    }
   ],
   "source": [
    "model = Sequential()\n",
    "#Conv2D 卷积层\n",
    "#Dropout 层\n",
    "#Dense 全连接层\n",
    "#Flatten Flattening layer(展平层)\n",
    "model.add(Conv2D(filters = 32, kernel_size = (5,5),padding = 'Same', \n",
    "                 activation ='relu', input_shape = (28,28,1)))\n",
    "#上面的代码中，输入层是卷积层，其获取28 * 28 * 1的输入图像。\n",
    "model.add(BatchNormalization())\n",
    "model.add(Conv2D(filters = 32, kernel_size = (5,5),padding = 'Same', \n",
    "                 activation ='relu'))\n",
    "model.add(BatchNormalization())\n",
    "\n",
    "model.add(MaxPooling2D(pool_size=(2,2)))\n",
    "model.add(Dropout(0.25))\n",
    "\n",
    "\n",
    "model.add(Conv2D(filters = 64, kernel_size = (3,3),padding = 'Same', \n",
    "                 activation ='relu'))\n",
    "model.add(BatchNormalization())\n",
    "model.add(Conv2D(filters = 64, kernel_size = (3,3),padding = 'Same', \n",
    "                 activation ='relu'))\n",
    "\n",
    "\n",
    "model.add(BatchNormalization())\n",
    "model.add(MaxPooling2D(pool_size=(2,2), strides=(2,2)))\n",
    "model.add(Dropout(0.25))\n",
    "\n",
    "\n",
    "model.add(Flatten())\n",
    "model.add(Dense(256, activation = \"relu\"))\n",
    "model.add(Dropout(0.25))\n",
    "model.add(BatchNormalization())\n",
    "model.add(Dense(10, activation = \"softmax\"))\n",
    "\n",
    "model.summary()"
   ]
  },
  {
   "cell_type": "code",
   "execution_count": 15,
   "metadata": {
    "execution": {
     "iopub.execute_input": "2021-12-14T08:18:40.210725Z",
     "iopub.status.busy": "2021-12-14T08:18:40.209807Z",
     "iopub.status.idle": "2021-12-14T08:18:40.212026Z",
     "shell.execute_reply": "2021-12-14T08:18:40.212481Z",
     "shell.execute_reply.started": "2021-12-14T07:29:03.828177Z"
    },
    "papermill": {
     "duration": 0.042328,
     "end_time": "2021-12-14T08:18:40.212619",
     "exception": false,
     "start_time": "2021-12-14T08:18:40.170291",
     "status": "completed"
    },
    "tags": []
   },
   "outputs": [],
   "source": [
    "#初始化优化器\n",
    "optimizer = RMSprop(learning_rate=0.001, rho=0.9, epsilon=1e-08, decay=0.0)"
   ]
  },
  {
   "cell_type": "code",
   "execution_count": 16,
   "metadata": {
    "execution": {
     "iopub.execute_input": "2021-12-14T08:18:40.287185Z",
     "iopub.status.busy": "2021-12-14T08:18:40.286286Z",
     "iopub.status.idle": "2021-12-14T08:18:40.292741Z",
     "shell.execute_reply": "2021-12-14T08:18:40.292268Z",
     "shell.execute_reply.started": "2021-12-14T07:29:06.290703Z"
    },
    "papermill": {
     "duration": 0.048532,
     "end_time": "2021-12-14T08:18:40.292873",
     "exception": false,
     "start_time": "2021-12-14T08:18:40.244341",
     "status": "completed"
    },
    "tags": []
   },
   "outputs": [],
   "source": [
    "#选择优化器并指定损失函数（如categorical_crossentropy）来指定反向传播的计算方法\n",
    "model.compile(optimizer = optimizer , loss = \"categorical_crossentropy\", metrics=[\"accuracy\"])"
   ]
  },
  {
   "cell_type": "code",
   "execution_count": 17,
   "metadata": {
    "execution": {
     "iopub.execute_input": "2021-12-14T08:18:40.359391Z",
     "iopub.status.busy": "2021-12-14T08:18:40.358653Z",
     "iopub.status.idle": "2021-12-14T08:18:40.360782Z",
     "shell.execute_reply": "2021-12-14T08:18:40.361165Z",
     "shell.execute_reply.started": "2021-12-14T07:48:32.771842Z"
    },
    "papermill": {
     "duration": 0.036977,
     "end_time": "2021-12-14T08:18:40.361290",
     "exception": false,
     "start_time": "2021-12-14T08:18:40.324313",
     "status": "completed"
    },
    "tags": []
   },
   "outputs": [],
   "source": [
    "checkpoint_filepath = 'best_model.h5'\n",
    "model_checkpoint_callback = ModelCheckpoint(\n",
    "    filepath=checkpoint_filepath,\n",
    "    save_weights_only=True,\n",
    "    monitor='val_accuracy',\n",
    "    mode='max',\n",
    "    save_best_only=True)\n"
   ]
  },
  {
   "cell_type": "code",
   "execution_count": 18,
   "metadata": {
    "execution": {
     "iopub.execute_input": "2021-12-14T08:18:40.495195Z",
     "iopub.status.busy": "2021-12-14T08:18:40.493668Z",
     "iopub.status.idle": "2021-12-14T08:18:40.495849Z",
     "shell.execute_reply": "2021-12-14T08:18:40.496244Z",
     "shell.execute_reply.started": "2021-12-14T07:29:11.143003Z"
    },
    "papermill": {
     "duration": 0.037637,
     "end_time": "2021-12-14T08:18:40.496358",
     "exception": false,
     "start_time": "2021-12-14T08:18:40.458721",
     "status": "completed"
    },
    "tags": []
   },
   "outputs": [],
   "source": [
    "#定义图像预处理对象\n",
    "datagen = ImageDataGenerator(\n",
    "        featurewise_center=False,  \n",
    "        samplewise_center=False,  \n",
    "        featurewise_std_normalization=False,  \n",
    "        samplewise_std_normalization=False,  \n",
    "        zca_whitening=False, \n",
    "        rotation_range=10,  \n",
    "        zoom_range = 0.1, \n",
    "        width_shift_range=0.1, \n",
    "        height_shift_range=0.1,  \n",
    "        horizontal_flip=False,  \n",
    "        vertical_flip=False)  "
   ]
  },
  {
   "cell_type": "code",
   "execution_count": 19,
   "metadata": {
    "execution": {
     "iopub.execute_input": "2021-12-14T08:18:40.564512Z",
     "iopub.status.busy": "2021-12-14T08:18:40.563499Z",
     "iopub.status.idle": "2021-12-14T08:33:41.333302Z",
     "shell.execute_reply": "2021-12-14T08:33:41.333742Z",
     "shell.execute_reply.started": "2021-12-14T07:48:36.950698Z"
    },
    "papermill": {
     "duration": 900.806923,
     "end_time": "2021-12-14T08:33:41.333906",
     "exception": false,
     "start_time": "2021-12-14T08:18:40.526983",
     "status": "completed"
    },
    "tags": []
   },
   "outputs": [
    {
     "name": "stdout",
     "output_type": "stream",
     "text": [
      "Epoch 1/50\n",
      "1182/1182 [==============================] - 113s 95ms/step - loss: 0.2265 - accuracy: 0.9292 - val_loss: 0.0625 - val_accuracy: 0.9817\n",
      "Epoch 2/50\n",
      "1182/1182 [==============================] - 115s 98ms/step - loss: 0.0910 - accuracy: 0.9717 - val_loss: 0.0745 - val_accuracy: 0.9769\n",
      "Epoch 3/50\n",
      "1182/1182 [==============================] - 114s 97ms/step - loss: 0.0742 - accuracy: 0.9771 - val_loss: 0.0455 - val_accuracy: 0.9855\n",
      "Epoch 4/50\n",
      "1182/1182 [==============================] - 114s 97ms/step - loss: 0.0643 - accuracy: 0.9812 - val_loss: 0.0435 - val_accuracy: 0.9871\n",
      "Epoch 5/50\n",
      "1182/1182 [==============================] - 114s 97ms/step - loss: 0.0565 - accuracy: 0.9834 - val_loss: 0.0338 - val_accuracy: 0.9917\n",
      "Epoch 6/50\n",
      "1182/1182 [==============================] - 114s 97ms/step - loss: 0.0539 - accuracy: 0.9846 - val_loss: 0.0468 - val_accuracy: 0.9869\n",
      "Epoch 7/50\n",
      "1182/1182 [==============================] - 114s 96ms/step - loss: 0.0470 - accuracy: 0.9863 - val_loss: 0.0562 - val_accuracy: 0.9848\n",
      "Epoch 8/50\n",
      "1182/1182 [==============================] - 113s 96ms/step - loss: 0.0453 - accuracy: 0.9864 - val_loss: 0.0344 - val_accuracy: 0.9919\n",
      "Epoch 9/50\n",
      "1182/1182 [==============================] - 120s 102ms/step - loss: 0.0444 - accuracy: 0.9870 - val_loss: 0.0325 - val_accuracy: 0.9914\n",
      "Epoch 10/50\n",
      "1182/1182 [==============================] - 109s 92ms/step - loss: 0.0438 - accuracy: 0.9872 - val_loss: 0.0316 - val_accuracy: 0.9924\n",
      "Epoch 11/50\n",
      "1182/1182 [==============================] - 111s 94ms/step - loss: 0.0417 - accuracy: 0.9875 - val_loss: 0.0324 - val_accuracy: 0.9929\n",
      "Epoch 12/50\n",
      "1182/1182 [==============================] - 112s 95ms/step - loss: 0.0411 - accuracy: 0.9891 - val_loss: 0.0308 - val_accuracy: 0.9924\n",
      "Epoch 13/50\n",
      "1182/1182 [==============================] - 110s 93ms/step - loss: 0.0351 - accuracy: 0.9892 - val_loss: 0.0379 - val_accuracy: 0.9910\n",
      "Epoch 14/50\n",
      "1182/1182 [==============================] - 109s 92ms/step - loss: 0.0371 - accuracy: 0.9894 - val_loss: 0.0292 - val_accuracy: 0.9919\n",
      "Epoch 15/50\n",
      "1182/1182 [==============================] - 114s 97ms/step - loss: 0.0373 - accuracy: 0.9893 - val_loss: 0.0383 - val_accuracy: 0.9907\n",
      "Epoch 16/50\n",
      "1182/1182 [==============================] - 114s 97ms/step - loss: 0.0345 - accuracy: 0.9900 - val_loss: 0.0306 - val_accuracy: 0.9917\n",
      "Epoch 17/50\n",
      "1182/1182 [==============================] - 115s 98ms/step - loss: 0.0357 - accuracy: 0.9904 - val_loss: 0.0308 - val_accuracy: 0.9931\n",
      "Epoch 18/50\n",
      "1182/1182 [==============================] - 115s 97ms/step - loss: 0.0358 - accuracy: 0.9896 - val_loss: 0.0379 - val_accuracy: 0.9924\n",
      "Epoch 19/50\n",
      "1182/1182 [==============================] - 115s 97ms/step - loss: 0.0341 - accuracy: 0.9908 - val_loss: 0.0369 - val_accuracy: 0.9912\n",
      "Epoch 20/50\n",
      "1182/1182 [==============================] - 117s 99ms/step - loss: 0.0324 - accuracy: 0.9915 - val_loss: 0.0333 - val_accuracy: 0.9929\n",
      "Epoch 21/50\n",
      "1182/1182 [==============================] - 114s 97ms/step - loss: 0.0325 - accuracy: 0.9903 - val_loss: 0.0384 - val_accuracy: 0.9912\n",
      "Epoch 22/50\n",
      "1182/1182 [==============================] - 116s 98ms/step - loss: 0.0302 - accuracy: 0.9915 - val_loss: 0.0387 - val_accuracy: 0.9910\n",
      "Epoch 23/50\n",
      "1182/1182 [==============================] - 114s 96ms/step - loss: 0.0353 - accuracy: 0.9907 - val_loss: 0.0319 - val_accuracy: 0.9926\n",
      "Epoch 24/50\n",
      "1182/1182 [==============================] - 114s 96ms/step - loss: 0.0310 - accuracy: 0.9914 - val_loss: 0.0383 - val_accuracy: 0.9907\n",
      "Epoch 25/50\n",
      "1182/1182 [==============================] - 114s 97ms/step - loss: 0.0302 - accuracy: 0.9909 - val_loss: 0.0329 - val_accuracy: 0.9929\n",
      "Epoch 26/50\n",
      "1182/1182 [==============================] - 119s 100ms/step - loss: 0.0308 - accuracy: 0.9920 - val_loss: 0.0379 - val_accuracy: 0.9910\n",
      "Epoch 27/50\n",
      "1182/1182 [==============================] - 124s 105ms/step - loss: 0.0296 - accuracy: 0.9919 - val_loss: 0.0301 - val_accuracy: 0.9933\n",
      "Epoch 28/50\n",
      "1182/1182 [==============================] - 120s 101ms/step - loss: 0.0281 - accuracy: 0.9923 - val_loss: 0.0352 - val_accuracy: 0.9921\n",
      "Epoch 29/50\n",
      "1182/1182 [==============================] - 118s 100ms/step - loss: 0.0274 - accuracy: 0.9922 - val_loss: 0.0365 - val_accuracy: 0.9929\n",
      "Epoch 30/50\n",
      "1182/1182 [==============================] - 120s 101ms/step - loss: 0.0256 - accuracy: 0.9926 - val_loss: 0.0409 - val_accuracy: 0.9921\n",
      "Epoch 31/50\n",
      "1182/1182 [==============================] - 120s 102ms/step - loss: 0.0297 - accuracy: 0.9916 - val_loss: 0.0280 - val_accuracy: 0.9943\n",
      "Epoch 32/50\n",
      "1182/1182 [==============================] - 119s 101ms/step - loss: 0.0306 - accuracy: 0.9919 - val_loss: 0.0306 - val_accuracy: 0.9943\n",
      "Epoch 33/50\n",
      "1182/1182 [==============================] - 121s 103ms/step - loss: 0.0264 - accuracy: 0.9925 - val_loss: 0.0306 - val_accuracy: 0.9921\n",
      "Epoch 34/50\n",
      "1182/1182 [==============================] - 124s 105ms/step - loss: 0.0278 - accuracy: 0.9920 - val_loss: 0.0320 - val_accuracy: 0.9924\n",
      "Epoch 35/50\n",
      "1182/1182 [==============================] - 115s 97ms/step - loss: 0.0295 - accuracy: 0.9919 - val_loss: 0.0312 - val_accuracy: 0.9933\n",
      "Epoch 36/50\n",
      "1182/1182 [==============================] - 118s 99ms/step - loss: 0.0291 - accuracy: 0.9920 - val_loss: 0.0304 - val_accuracy: 0.9940\n",
      "Epoch 37/50\n",
      "1182/1182 [==============================] - 120s 102ms/step - loss: 0.0259 - accuracy: 0.9928 - val_loss: 0.0361 - val_accuracy: 0.9924\n",
      "Epoch 38/50\n",
      "1182/1182 [==============================] - 117s 99ms/step - loss: 0.0293 - accuracy: 0.9922 - val_loss: 0.0347 - val_accuracy: 0.9929\n",
      "Epoch 39/50\n",
      "1182/1182 [==============================] - 121s 102ms/step - loss: 0.0251 - accuracy: 0.9935 - val_loss: 0.0319 - val_accuracy: 0.9943\n",
      "Epoch 40/50\n",
      "1182/1182 [==============================] - 118s 100ms/step - loss: 0.0269 - accuracy: 0.9928 - val_loss: 0.0330 - val_accuracy: 0.9936\n",
      "Epoch 41/50\n",
      "1182/1182 [==============================] - 119s 101ms/step - loss: 0.0271 - accuracy: 0.9926 - val_loss: 0.0356 - val_accuracy: 0.9910\n",
      "Epoch 42/50\n",
      "1182/1182 [==============================] - 118s 100ms/step - loss: 0.0261 - accuracy: 0.9931 - val_loss: 0.0306 - val_accuracy: 0.9938\n",
      "Epoch 43/50\n",
      "1182/1182 [==============================] - 118s 100ms/step - loss: 0.0281 - accuracy: 0.9925 - val_loss: 0.0394 - val_accuracy: 0.9921\n",
      "Epoch 44/50\n",
      "1182/1182 [==============================] - 118s 100ms/step - loss: 0.0270 - accuracy: 0.9931 - val_loss: 0.0370 - val_accuracy: 0.9929\n",
      "Epoch 45/50\n",
      "1182/1182 [==============================] - 120s 101ms/step - loss: 0.0247 - accuracy: 0.9931 - val_loss: 0.0357 - val_accuracy: 0.9924\n",
      "Epoch 46/50\n",
      "1182/1182 [==============================] - 119s 101ms/step - loss: 0.0227 - accuracy: 0.9933 - val_loss: 0.0332 - val_accuracy: 0.9924\n",
      "Epoch 47/50\n",
      "1182/1182 [==============================] - 118s 100ms/step - loss: 0.0241 - accuracy: 0.9933 - val_loss: 0.0369 - val_accuracy: 0.9921\n",
      "Epoch 48/50\n",
      "1182/1182 [==============================] - 119s 100ms/step - loss: 0.0226 - accuracy: 0.9937 - val_loss: 0.0315 - val_accuracy: 0.9929\n",
      "Epoch 49/50\n",
      "1182/1182 [==============================] - 119s 100ms/step - loss: 0.0255 - accuracy: 0.9935 - val_loss: 0.0359 - val_accuracy: 0.9926\n",
      "Epoch 50/50\n",
      "1182/1182 [==============================] - 116s 98ms/step - loss: 0.0249 - accuracy: 0.9930 - val_loss: 0.0313 - val_accuracy: 0.9938\n"
     ]
    }
   ],
   "source": [
    "#将预处理完毕的图像提供给模型并进行训练\n",
    "history = model.fit(datagen.flow(X_train,Y_train, batch_size=32), epochs=50, validation_data = (X_val,Y_val), \n",
    "                    shuffle=True, callbacks=[model_checkpoint_callback])"
   ]
  },
  {
   "cell_type": "code",
   "execution_count": 20,
   "metadata": {
    "execution": {
     "iopub.execute_input": "2021-12-14T08:33:49.165245Z",
     "iopub.status.busy": "2021-12-14T08:33:49.164364Z",
     "iopub.status.idle": "2021-12-14T08:33:50.997198Z",
     "shell.execute_reply": "2021-12-14T08:33:50.996058Z",
     "shell.execute_reply.started": "2021-12-14T08:13:41.244776Z"
    },
    "papermill": {
     "duration": 5.765814,
     "end_time": "2021-12-14T08:33:50.997347",
     "exception": false,
     "start_time": "2021-12-14T08:33:45.231533",
     "status": "completed"
    },
    "tags": []
   },
   "outputs": [],
   "source": [
    "model.load_weights(checkpoint_filepath)\n",
    "#获得预测结果\n",
    "predictions = model.predict(X_test, verbose=0)"
   ]
  },
  {
   "cell_type": "code",
   "execution_count": 21,
   "metadata": {
    "execution": {
     "iopub.execute_input": "2021-12-14T08:33:58.948667Z",
     "iopub.status.busy": "2021-12-14T08:33:58.947874Z",
     "iopub.status.idle": "2021-12-14T08:33:58.951205Z",
     "shell.execute_reply": "2021-12-14T08:33:58.950789Z",
     "shell.execute_reply.started": "2021-12-14T08:13:51.152234Z"
    },
    "papermill": {
     "duration": 4.049982,
     "end_time": "2021-12-14T08:33:58.951336",
     "exception": false,
     "start_time": "2021-12-14T08:33:54.901354",
     "status": "completed"
    },
    "tags": []
   },
   "outputs": [],
   "source": [
    "predictions = np.argmax(predictions,axis = 1)"
   ]
  },
  {
   "cell_type": "code",
   "execution_count": 22,
   "metadata": {
    "execution": {
     "iopub.execute_input": "2021-12-14T08:34:15.789144Z",
     "iopub.status.busy": "2021-12-14T08:34:15.788100Z",
     "iopub.status.idle": "2021-12-14T08:34:16.109682Z",
     "shell.execute_reply": "2021-12-14T08:34:16.109223Z",
     "shell.execute_reply.started": "2021-12-14T08:13:54.932422Z"
    },
    "papermill": {
     "duration": 4.538507,
     "end_time": "2021-12-14T08:34:16.109819",
     "exception": false,
     "start_time": "2021-12-14T08:34:11.571312",
     "status": "completed"
    },
    "tags": []
   },
   "outputs": [
    {
     "data": {
      "image/png": "[encoded data removed]",
      "text/plain": [
       "<Figure size 432x288 with 2 Axes>"
      ]
     },
     "metadata": {
      "needs_background": "light"
     },
     "output_type": "display_data"
    }
   ],
   "source": [
    "#模型评估\n",
    "fig, ax = plt.subplots(2,1)\n",
    "ax[0].plot(history.history['loss'], color='b', label=\"Training loss\")\n",
    "ax[0].plot(history.history['val_loss'], color='r', label=\"validation loss\",axes =ax[0])\n",
    "legend = ax[0].legend(loc='best', shadow=True)\n",
    "ax[1].plot(history.history['accuracy'], color='b', label=\"Training accuracy\")\n",
    "ax[1].plot(history.history['val_accuracy'], color='r',label=\"Validation accuracy\")\n",
    "legend = ax[1].legend(loc='best', shadow=True)"
   ]
  },
  {
   "cell_type": "code",
   "execution_count": 23,
   "metadata": {
    "execution": {
     "iopub.execute_input": "2021-12-14T08:34:42.892436Z",
     "iopub.status.busy": "2021-12-14T08:34:42.891301Z",
     "iopub.status.idle": "2021-12-14T08:34:43.090682Z",
     "shell.execute_reply": "2021-12-14T08:34:43.090165Z",
     "shell.execute_reply.started": "2021-12-14T08:14:28.188495Z"
    },
    "papermill": {
     "duration": 4.420478,
     "end_time": "2021-12-14T08:34:43.090833",
     "exception": false,
     "start_time": "2021-12-14T08:34:38.670355",
     "status": "completed"
    },
    "tags": []
   },
   "outputs": [
    {
     "name": "stdout",
     "output_type": "stream",
     "text": [
      "预测值:0\n"
     ]
    },
    {
     "data": {
      "image/png": "[encoded data removed]",
      "text/plain": [
       "<Figure size 432x288 with 1 Axes>"
      ]
     },
     "metadata": {
      "needs_background": "light"
     },
     "output_type": "display_data"
    }
   ],
   "source": [
    "#模型预测测试\n",
    "random_number = random.randint(0,len(X_test)-1)\n",
    "plt.imshow(X_test[random_number][:,:,0])\n",
    "print(\"预测值:{:d}\".format(predictions[random_number]))"
   ]
  },
  {
   "cell_type": "code",
   "execution_count": 24,
   "metadata": {
    "execution": {
     "iopub.execute_input": "2021-12-14T08:35:00.361553Z",
     "iopub.status.busy": "2021-12-14T08:35:00.360699Z",
     "iopub.status.idle": "2021-12-14T08:35:00.408344Z",
     "shell.execute_reply": "2021-12-14T08:35:00.408778Z",
     "shell.execute_reply.started": "2021-12-14T08:14:33.455028Z"
    },
    "papermill": {
     "duration": 4.597531,
     "end_time": "2021-12-14T08:35:00.408922",
     "exception": false,
     "start_time": "2021-12-14T08:34:55.811391",
     "status": "completed"
    },
    "tags": []
   },
   "outputs": [],
   "source": [
    "#提交并生成csv文件\n",
    "submissions=pd.DataFrame({\"ImageId\": list(range(1,len(predictions)+1)),\n",
    "                         \"Label\": predictions})\n",
    "submissions.to_csv(\"submission.csv\", index=False, header=True)"
   ]
  }
 ],
 "metadata": {
  "kernelspec": {
   "display_name": "Python 3",
   "language": "python",
   "name": "python3"
  },
  "language_info": {
   "codemirror_mode": {
    "name": "ipython",
    "version": 3
   },
   "file_extension": ".py",
   "mimetype": "text/x-python",
   "name": "python",
   "nbconvert_exporter": "python",
   "pygments_lexer": "ipython3",
   "version": "3.7.0"
  },
  "papermill": {
   "default_parameters": {},
   "duration": 1038.159144,
   "end_time": "2021-12-14T08:35:33.340136",
   "environment_variables": {},
   "exception": null,
   "input_path": "__notebook__.ipynb",
   "output_path": "__notebook__.ipynb",
   "parameters": {},
   "start_time": "2021-12-14T08:18:15.180992",
   "version": "2.3.3"
  }
 },
 "nbformat": 4,
 "nbformat_minor": 5
}
